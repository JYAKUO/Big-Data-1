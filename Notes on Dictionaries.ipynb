{
 "cells": [
  {
   "cell_type": "code",
   "execution_count": 5,
   "metadata": {
    "collapsed": false
   },
   "outputs": [
    {
     "name": "stdout",
     "output_type": "stream",
     "text": [
      "kiwi\n"
     ]
    }
   ],
   "source": [
    "#Dictionary is a set of key-value pairs\n",
    "    #>>> similar to a list\n",
    "    \n",
    "fruit = ['apple', 'banana', 'kiwi']\n",
    "\n",
    "print(fruit[2])"
   ]
  },
  {
   "cell_type": "code",
   "execution_count": 6,
   "metadata": {
    "collapsed": false
   },
   "outputs": [
    {
     "name": "stdout",
     "output_type": "stream",
     "text": [
      "kiwi\n"
     ]
    }
   ],
   "source": [
    "fruit2 = {'red': 'apple', 'yellow': 'banana', 'green': 'kiwi'}\n",
    "\n",
    "print(fruit2['green'])"
   ]
  },
  {
   "cell_type": "markdown",
   "metadata": {},
   "source": [
    "Outline of a dictionary:\n",
    "- unique keys\n",
    "- not ordered\n",
    "- values can be any tupe, keys must be numbers or strings\n",
    "\n",
    "Keys are the things that come first, values things that come second."
   ]
  },
  {
   "cell_type": "code",
   "execution_count": 7,
   "metadata": {
    "collapsed": false
   },
   "outputs": [
    {
     "name": "stdout",
     "output_type": "stream",
     "text": [
      "yellow\n"
     ]
    }
   ],
   "source": [
    "lookup = {}\n",
    "\n",
    "lookup['banana'] = 'yellow'\n",
    "\n",
    "print(lookup['banana'])"
   ]
  },
  {
   "cell_type": "code",
   "execution_count": 10,
   "metadata": {
    "collapsed": false
   },
   "outputs": [
    {
     "name": "stdout",
     "output_type": "stream",
     "text": [
      "{'male': 1}\n",
      "{'male': 2}\n",
      "{'female': 1, 'male': 2}\n",
      "{'female': 2, 'male': 2}\n",
      "{'female': 3, 'male': 2}\n",
      "{'female': 3, 'male': 3}\n",
      "{'female': 4, 'male': 3}\n",
      "{'female': 4, 'male': 4}\n",
      "female 4\n",
      "male 4\n"
     ]
    }
   ],
   "source": [
    "mf = ['male', 'male', 'female', 'female', 'female', 'male', 'female', 'male']\n",
    "\n",
    "mflookup = {}\n",
    "\n",
    "for i in range(len(mf)):\n",
    "    if mf[i] not in mflookup:\n",
    "        mflookup[mf[i]] = 1\n",
    "    else:\n",
    "        mflookup[mf[i]]+=1\n",
    "    print(mflookup)\n",
    "    \n",
    "for y in mflookup:\n",
    "    print(y, mflookup[y])"
   ]
  },
  {
   "cell_type": "code",
   "execution_count": null,
   "metadata": {
    "collapsed": true
   },
   "outputs": [],
   "source": []
  }
 ],
 "metadata": {
  "anaconda-cloud": {},
  "kernelspec": {
   "display_name": "Python [Root]",
   "language": "python",
   "name": "Python [Root]"
  },
  "language_info": {
   "codemirror_mode": {
    "name": "ipython",
    "version": 3
   },
   "file_extension": ".py",
   "mimetype": "text/x-python",
   "name": "python",
   "nbconvert_exporter": "python",
   "pygments_lexer": "ipython3",
   "version": "3.5.2"
  }
 },
 "nbformat": 4,
 "nbformat_minor": 0
}

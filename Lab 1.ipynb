{
 "cells": [
  {
   "cell_type": "markdown",
   "metadata": {},
   "source": [
    "<h1> Analyzing Fremont Bridge Sidewalk Traffic"
   ]
  },
  {
   "cell_type": "markdown",
   "metadata": {},
   "source": [
    "<h2> Part 1: In Depth Study of September 2015"
   ]
  },
  {
   "cell_type": "code",
   "execution_count": 1,
   "metadata": {
    "collapsed": false,
    "scrolled": true
   },
   "outputs": [
    {
     "name": "stdout",
     "output_type": "stream",
     "text": [
      "West Sidewalk Statistics\n",
      "The mean of the West is:  1497.57\n",
      "The median of the West is:  1573.5\n",
      "There is no mode - 30 equally common values\n",
      "\n",
      "East Sidewalk Statistics\n",
      "The mean of the East is:  1540.43\n",
      "The median of the East is:  1648.0\n",
      "There is no mode - 30 equally common values\n"
     ]
    }
   ],
   "source": [
    "#Jacob Richey, Big Data, 9/20/16\n",
    "\n",
    "import statistics as stat\n",
    "\n",
    "data_file = open(\"FreBridge1.csv\", \"r\");\n",
    "#create an empty list to store the data\n",
    "data_list = [];\n",
    "#put all lines from the file into a list\n",
    "for ii in data_file:\n",
    "    data_list.append(ii);\n",
    "\n",
    "#remove the first element (column header)\n",
    "del data_list[0];\n",
    "#create empty lists for westbound and eastbound bikes\n",
    "west = [];\n",
    "east = [];    \n",
    "for jj in range(len(data_list)):\n",
    "    #make into a list of lists of just numbers\n",
    "    data_list[jj] = data_list[jj].split(\",\");\n",
    "    #add data to specific lists for west and east\n",
    "    west.append(int(data_list[jj][1]));\n",
    "    east.append(int(data_list[jj][2]));\n",
    "    \n",
    "print(\"West Sidewalk Statistics\")\n",
    "print(\"The mean of the West is: \", round(stat.mean(west), 2))\n",
    "print(\"The median of the West is: \", stat.median(west))\n",
    "print(\"There is no mode - 30 equally common values\")\n",
    "\n",
    "print()\n",
    "print(\"East Sidewalk Statistics\")\n",
    "print(\"The mean of the East is: \", round(stat.mean(east), 2))\n",
    "print(\"The median of the East is: \", (stat.median(east)))\n",
    "print(\"There is no mode - 30 equally common values\")"
   ]
  },
  {
   "cell_type": "markdown",
   "metadata": {},
   "source": [
    "The data set is from the bike-counter on the Fremont Bridge. \n",
    "\n",
    "\n",
    "The mean represents the average number of pedestrians/bikers crossing the bridge (on the West or East sidewalk) per day for the month of September (the duration of the data set). \n",
    "The median gives the middle number of pedestrian/biker crossings when the data is arranged by magnitude. \n",
    "The mode calculates how many times the number of people that crossed the bridge was the same on different days.\n",
    "\n",
    "The purpose of the analysis determines whether mean or median would be better. \n",
    "If we want to find the raw average number of crossings per day, for example for maintenance purposes, then mean would be sufficient. \n",
    "However, if we want to find average weekday traffic, it would make more sense to take the median, because it would disregard the low outliers on the weekends. OR, as I've calculated below, take a seperate mean for weekdays and weekends.\n",
    "\n",
    "The mode tells us very little in this data set because it doesn't really matter if the number of people that crossed the bridge happened to repeat itself a couple of days. \n",
    "\n",
    "From these calculations I can clearly see there are slightly more people that cross East rather than West, but by such a small amount I wouldn't read too much into it. \n",
    "\n",
    "Other calculations I might make if I had more data would be to overlay holidays with the bridge traffic, to see if there is a correlation. Certainly a larger data set would allow me to do more as well. I might compare weather with the bridge traffic to see how heavily it is affected by good/bad weather."
   ]
  },
  {
   "cell_type": "code",
   "execution_count": 2,
   "metadata": {
    "collapsed": false
   },
   "outputs": [
    {
     "name": "stdout",
     "output_type": "stream",
     "text": [
      "Bridge Traffic Analysis\n",
      "Avg. Monday Traffic:  3239\n",
      "\tMax Crossing Number:  3862\n",
      "Avg. Tuesday Traffic:  3817\n",
      "\tMax Crossing Number:  4551\n",
      "Avg. Wednesday Traffic:  4054.6\n",
      "\tMax Crossing Number:  4562\n",
      "Avg. Thursday Traffic:  3490.75\n",
      "\tMax Crossing Number:  4321\n",
      "Avg. Friday Traffic:  3095.5\n",
      "\tMax Crossing Number:  3761\n",
      "Avg. Saturday Traffic:  1847.25\n",
      "\tMax Crossing Number:  2191\n",
      "Avg. Sunday Traffic:  1273\n",
      "\tMax Crossing Number:  1571\n",
      "\n",
      "Avg. Weekday Traffic:  3539.37\n",
      "Avg. Weekend Traffic:  1560.125\n"
     ]
    }
   ],
   "source": [
    "allData = []\n",
    "\n",
    "for i in range(len(west)):\n",
    "    allData.append(west[i]+east[i])\n",
    "    \n",
    "mon = []\n",
    "tue = []\n",
    "wed = []\n",
    "thur = []\n",
    "fri = []\n",
    "sat = []\n",
    "sun = []\n",
    " \n",
    "for x in range(0, 29, 7):\n",
    "    tue.append(allData[x])\n",
    "    wed.append(allData[x+1])\n",
    "    if(x<28):\n",
    "        thur.append(allData[x+2])\n",
    "        fri.append(allData[x+3])\n",
    "        sat.append(allData[x+4])\n",
    "        sun.append(allData[x+5])\n",
    "        mon.append(allData[x+6])\n",
    "    \n",
    "\n",
    "print(\"Bridge Traffic Analysis\")\n",
    "print(\"Avg. Monday Traffic: \", stat.mean(mon))\n",
    "print(\"\\tMax Crossing Number: \", max(mon))\n",
    "print(\"Avg. Tuesday Traffic: \", stat.mean(tue))\n",
    "print(\"\\tMax Crossing Number: \", max(tue))\n",
    "print(\"Avg. Wednesday Traffic: \", stat.mean(wed))\n",
    "print(\"\\tMax Crossing Number: \", max(wed))\n",
    "print(\"Avg. Thursday Traffic: \", stat.mean(thur))\n",
    "print(\"\\tMax Crossing Number: \", max(thur))\n",
    "print(\"Avg. Friday Traffic: \", stat.mean(fri))\n",
    "print(\"\\tMax Crossing Number: \", max(fri))\n",
    "print(\"Avg. Saturday Traffic: \", stat.mean(sat))\n",
    "print(\"\\tMax Crossing Number: \", max(sat))\n",
    "print(\"Avg. Sunday Traffic: \", stat.mean(sun))\n",
    "print(\"\\tMax Crossing Number: \", max(sun))\n",
    "\n",
    "print()\n",
    "print(\"Avg. Weekday Traffic: \", (stat.mean(mon)+stat.mean(tue)+stat.mean(wed)+stat.mean(thur)+stat.mean(fri))/5)\n",
    "print(\"Avg. Weekend Traffic: \", (stat.mean(sat)+stat.mean(sun))/2)"
   ]
  },
  {
   "cell_type": "markdown",
   "metadata": {
    "collapsed": true
   },
   "source": [
    "In my further calculations above, I can conclude that Wednesday averages the highest traffic (4054.6 per day), and also holds the crossing high for the month (4562 crossers). Another calculation I made that I found was interesting is the difference between the average weekday and weekend traffic. Significantly more people cross on weekdays, indicating the majority of crossers are crossing to get to work. "
   ]
  },
  {
   "cell_type": "markdown",
   "metadata": {
    "collapsed": true
   },
   "source": [
    "<h2> Part 2: Mass Data Study from October 2012 to August 2016"
   ]
  },
  {
   "cell_type": "code",
   "execution_count": 3,
   "metadata": {
    "collapsed": false
   },
   "outputs": [
    {
     "data": {
      "text/plain": [
       "<matplotlib.text.Text at 0x109779cc0>"
      ]
     },
     "execution_count": 3,
     "metadata": {},
     "output_type": "execute_result"
    },
    {
     "data": {
      "image/png": "[encoded data removed]",
      "text/plain": [
       "<matplotlib.figure.Figure at 0x102f81a58>"
      ]
     },
     "metadata": {},
     "output_type": "display_data"
    }
   ],
   "source": [
    "#Jacob Richey, Big Data, 9/20/16\n",
    "\n",
    "data_file = open(\"FreBridge2.csv\", \"r\");\n",
    "#create an empty list to store the data\n",
    "data_list = [];\n",
    "#put all lines from the file into a list\n",
    "for ii in data_file:\n",
    "    data_list.append(ii);\n",
    "\n",
    "#remove the first element (column header)\n",
    "del data_list[0];\n",
    "#create empty lists for westbound and eastbound bikes\n",
    "allData = [];\n",
    "for jj in range(len(data_list)):\n",
    "    #make into a list of lists of just numbers\n",
    "    data_list[jj] = data_list[jj].split(\",\");\n",
    "    #add data to specific lists for west and east\n",
    "    allData.append(int(data_list[jj][1])+int(data_list[jj][2]));\n",
    "\n",
    "dayNumber = []\n",
    "\n",
    "for x in range(len(allData)):\n",
    "    dayNumber.append((x+275)%365)\n",
    "    dayNumber[x] = dayNumber[x]+1\n",
    "    \n",
    "\n",
    "\n",
    "import matplotlib.pyplot as plt\n",
    "% matplotlib inline\n",
    "\n",
    "plt.scatter(dayNumber, allData)\n",
    "plt.title(\"All Data Analysis\")\n",
    "plt.xlabel(\"Day of Year\")\n",
    "plt.ylabel(\"Number of Crossers\")"
   ]
  },
  {
   "cell_type": "markdown",
   "metadata": {},
   "source": [
    "The data set for part two ranges from October 2012 to August 2016. My goal is to estimate as accurately as possible the total number of crossers on Friday September 30, 2016. I'll start simple, and gradually refine my search until I have a good estimation. I don't care about a distinction between West and East crossers for this section, I just want to predict the TOTAL number of crossers on Sep 30 - thus I combined the two sides immediately in my code. \n",
    "\n",
    "Displayed above is a scatter plot of the entire data set. The x axis is the day of the year, for example Jan 2 would be 2, while Dec 30 would be 364. The y axis is the number of crossers. The graph displays the variation that occurs during the year for the number of crossers, spiking in the middle of the year (the summer), and decreasing at the beginning and end of the year. It forms a concave down curve. "
   ]
  },
  {
   "cell_type": "code",
   "execution_count": 4,
   "metadata": {
    "collapsed": false
   },
   "outputs": [
    {
     "name": "stdout",
     "output_type": "stream",
     "text": [
      "Bridge Traffic Analysis by Day\n",
      "Avg. Monday Traffic:  3231.15\n",
      "Avg. Tuesday Traffic:  3464.9\n",
      "Avg. Wednesday Traffic:  3463.08\n",
      "Avg. Thursday Traffic:  3279.99\n",
      "Avg. Friday Traffic:  2931.95\n",
      "Avg. Saturday Traffic:  1595.27\n",
      "Avg. Sunday Traffic:  1521.29\n",
      "\n",
      "Avg. Total Crossers:  2784.42\n"
     ]
    }
   ],
   "source": [
    "mon = []\n",
    "tue = []\n",
    "wed = []\n",
    "thur = []\n",
    "fri = []\n",
    "sat = []\n",
    "sun = []\n",
    " \n",
    "for x in range(0, 1429, 7):\n",
    "    wed.append(allData[x])\n",
    "    if(x < 1428):\n",
    "        thur.append(allData[x+1])\n",
    "        fri.append(allData[x+2])\n",
    "        sat.append(allData[x+3])\n",
    "        sun.append(allData[x+4])\n",
    "        mon.append(allData[x+5])\n",
    "        tue.append(allData[x+6])\n",
    "        \n",
    "print(\"Bridge Traffic Analysis by Day\")\n",
    "print(\"Avg. Monday Traffic: \", round(stat.mean(mon), 2))\n",
    "print(\"Avg. Tuesday Traffic: \", round(stat.mean(tue), 2))\n",
    "print(\"Avg. Wednesday Traffic: \", round(stat.mean(wed), 2))\n",
    "print(\"Avg. Thursday Traffic: \", round(stat.mean(thur), 2))\n",
    "print(\"Avg. Friday Traffic: \", round(stat.mean(fri), 2))\n",
    "print(\"Avg. Saturday Traffic: \", round(stat.mean(sat), 2))\n",
    "print(\"Avg. Sunday Traffic: \", round(stat.mean(sun), 2))\n",
    "\n",
    "print()\n",
    "print(\"Avg. Total Crossers: \", round(stat.mean(allData), 2))"
   ]
  },
  {
   "cell_type": "markdown",
   "metadata": {},
   "source": [
    "In depth analysis of average number of bridge crossers per day show there is a significant difference in the number of crossers on Friday versus other days. I want to predict the bridge traffic on a Friday, so therefore, from now on we will analyze Friday Data on it's own. This will allow me to work with data that will be most similar to the date I want to predict. "
   ]
  },
  {
   "cell_type": "code",
   "execution_count": 5,
   "metadata": {
    "collapsed": false
   },
   "outputs": [
    {
     "data": {
      "text/plain": [
       "<matplotlib.text.Text at 0x10dcedda0>"
      ]
     },
     "execution_count": 5,
     "metadata": {},
     "output_type": "execute_result"
    },
    {
     "data": {
      "image/png": "[encoded data removed]",
      "text/plain": [
       "<matplotlib.figure.Figure at 0x10dced198>"
      ]
     },
     "metadata": {},
     "output_type": "display_data"
    }
   ],
   "source": [
    "fridayDayNumbers = []\n",
    "    \n",
    "for x in range(len(fri)):\n",
    "    fridayDayNumbers.append(((x*7)+277)%365)\n",
    "    fridayDayNumbers[x] = fridayDayNumbers[x]+1\n",
    "    \n",
    "plt.scatter(fridayDayNumbers, fri)\n",
    "plt.title(\"Friday Analysis\")\n",
    "plt.xlabel(\"Day of Year\")\n",
    "plt.ylabel(\"Number of Crossers\")"
   ]
  },
  {
   "cell_type": "markdown",
   "metadata": {},
   "source": [
    "Displayed is a scatter plot of Friday data only. The set up is the same as the scatter plot of all data above. The general trend seems to follow the same pattern of spiking in the middle of the year. I would like to analyze the correlation between mean temperature of the day / precipitation and number of crossers, but I cannot find that data in a usable format. "
   ]
  },
  {
   "cell_type": "markdown",
   "metadata": {
    "collapsed": true
   },
   "source": [
    "NOTE FOR MS. ANDERSON: HOW CAN I CALCULATE A BEST FIT EQUATION AND LINE? thank you for reading through all this!"
   ]
  },
  {
   "cell_type": "code",
   "execution_count": null,
   "metadata": {
    "collapsed": true
   },
   "outputs": [],
   "source": []
  }
 ],
 "metadata": {
  "anaconda-cloud": {},
  "kernelspec": {
   "display_name": "Python [Root]",
   "language": "python",
   "name": "Python [Root]"
  },
  "language_info": {
   "codemirror_mode": {
    "name": "ipython",
    "version": 3
   },
   "file_extension": ".py",
   "mimetype": "text/x-python",
   "name": "python",
   "nbconvert_exporter": "python",
   "pygments_lexer": "ipython3",
   "version": "3.5.2"
  }
 },
 "nbformat": 4,
 "nbformat_minor": 0
}

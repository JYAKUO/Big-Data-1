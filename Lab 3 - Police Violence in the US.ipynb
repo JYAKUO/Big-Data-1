{
 "cells": [
  {
   "cell_type": "markdown",
   "metadata": {},
   "source": [
    "# Police Violence in the US"
   ]
  },
  {
   "cell_type": "code",
   "execution_count": 21,
   "metadata": {
    "collapsed": true
   },
   "outputs": [],
   "source": [
    "#Jacob Richey, October 24th 2016, Big Data"
   ]
  },
  {
   "cell_type": "markdown",
   "metadata": {},
   "source": [
    "# Introduction"
   ]
  },
  {
   "cell_type": "code",
   "execution_count": 22,
   "metadata": {
    "collapsed": true
   },
   "outputs": [],
   "source": [
    "import scipy.stats as st\n",
    "import matplotlib.pyplot as plt\n",
    "import operator\n",
    "%matplotlib inline"
   ]
  },
  {
   "cell_type": "code",
   "execution_count": 23,
   "metadata": {
    "collapsed": false
   },
   "outputs": [
    {
     "name": "stdout",
     "output_type": "stream",
     "text": [
      "['New Mexico', 'Albuquerque', 'Albuquerque Police Department', 15.0, 3.0, 545852.0, 14878.0, 229933.0, 20627.0, 13674.0, 418.0, 14092.0, 1224.0, 10043.0, 255055.0, 558874.0, 4934.0, 30.0, 8.8, 5.4, 27.5, 201.6, 67.2, 13.4, 28.48]\n",
      "\n",
      "['Keith Lamont Scott', 'Unknown', 'Male', 'Black', '9/20/16', 'Charlotte', 'NC', 'Charlotte-Mecklenburg Police Department', 'Gunshot', 'Unclear\\n']\n"
     ]
    }
   ],
   "source": [
    "PVfile = open(\"PoliceViolence_city.csv\", \"r\", errors=\"ignore\")\n",
    "KPfile = open(\"Killed_By_Police.csv\", \"r\", errors=\"ignore\")\n",
    "\n",
    "policeViolence = []\n",
    "killedByPolice = []\n",
    "\n",
    "def dataAdd (file, addList):\n",
    "    for i in file:\n",
    "        addList.append(i)\n",
    "    del addList[0]\n",
    "    for i in range(len(addList)):\n",
    "        addList[i] = addList[i].split(\",\")\n",
    "        \n",
    "dataAdd(PVfile, policeViolence)\n",
    "dataAdd(KPfile, killedByPolice)\n",
    "\n",
    "for row in range(len(policeViolence)):\n",
    "    for column in range(3, 25):\n",
    "        policeViolence[row][column] = float(policeViolence[row][column])\n",
    "\n",
    "print(policeViolence[0])\n",
    "print()\n",
    "print(killedByPolice[0])"
   ]
  },
  {
   "cell_type": "markdown",
   "metadata": {},
   "source": [
    "Here are two data sets addressing Police Violence in the US. One gives specific numbers about 100 police departments in major cities in the United States. The other gives detailed data on every person killed by the police since January 1st, 2013. In this report, I ask a variety of questions I find interesting, and use code to solve for these questions.\n",
    "\n",
    "The questions include:\n",
    "- Does a higher rate of violent crime make it more likely for police to kill people?\n",
    "- Does a larger black population by percentage make it more likely for police to kill black people?\n",
    "- In which state are you most likely to be killed by police if you are of any race?\n",
    "- In which state are you most likely to be killed if you are black?\n",
    "- What race is most likely to be killed unarmed in the country?\n",
    "- Is there a correlation between the police homicide rate for black people and the black-white dissimilarity of the city?\n",
    "\n",
    "For my analysis of these questions, I use both data sets above and a csv of population numbers in each state to gather my data, and correlation coefficients and other statistics methods to make my analysis."
   ]
  },
  {
   "cell_type": "markdown",
   "metadata": {
    "collapsed": true
   },
   "source": [
    "## Does a higher rate of violent crime make it more likely for police to kill people?"
   ]
  },
  {
   "cell_type": "code",
   "execution_count": 26,
   "metadata": {
    "collapsed": false
   },
   "outputs": [
    {
     "name": "stdout",
     "output_type": "stream",
     "text": [
      "R Value: 0.216269790548\n"
     ]
    },
    {
     "data": {
      "text/plain": [
       "[<matplotlib.lines.Line2D at 0x110a4e5f8>]"
      ]
     },
     "execution_count": 26,
     "metadata": {},
     "output_type": "execute_result"
    },
    {
     "data": {
      "image/png": "[encoded data removed]",
      "text/plain": [
       "<matplotlib.figure.Figure at 0x11073a128>"
      ]
     },
     "metadata": {},
     "output_type": "display_data"
    }
   ],
   "source": [
    "crimeRate = []\n",
    "killRate = []\n",
    "\n",
    "for i in range(len(policeViolence)):\n",
    "    crimeRate.append(i)\n",
    "    killRate.append(i)\n",
    "    crimeRate[i] = policeViolence[i][18]\n",
    "    killRate[i] = policeViolence[i][20]\n",
    "\n",
    "slope, intercept, r_value, p_value, std_err = st.linregress(crimeRate, killRate)\n",
    "\n",
    "print(\"R Value:\", r_value)\n",
    "\n",
    "plt.figure(figsize=(10,5))\n",
    "plt.grid()\n",
    "plt.title(\"Violent Crime Rate vs. Police Homicide Rate\")\n",
    "plt.xlabel(\"Violent Crime Rate\")\n",
    "plt.ylabel(\"Police Homicide Rate\")\n",
    "plt.scatter(crimeRate, killRate)\n",
    "plt.plot([0, 20], [intercept, (slope*20)+intercept])"
   ]
  },
  {
   "cell_type": "markdown",
   "metadata": {},
   "source": [
    "I took reported data from police departments on the violent crime rate (violent crime per 100,000 people), and the police homicide rate (people killed by police per 100,000 people), and graphed them together. I then calculated a best fit line and the correlation coefficient.\n",
    "\n",
    "The relationship between violent crime rate and total police homicide rate is present, but weak. The closer the correlation coefficient (r value) is to +1 or -1, the more closely the two variables are related. If r is close to 0, it means there is no relationship between the variables. The r value for this relation is 0.2163, meaning there is a positive relationship, but it is not strong at all. This is also demonstrated by the great variance of the points on the graph from the best fit line running through the range. \n",
    "\n",
    "So, while there is a small correlation between the violent crime rate and police homicide rate, it is a very weak correlation and not very conclusive. I would suspect this is because a higher violent crime rate typically means more aggressive criminals, which would offer up more situations in which police officers might be forced to shoot someone. "
   ]
  },
  {
   "cell_type": "markdown",
   "metadata": {},
   "source": [
    "## Does a larger black population by percentage make it more likely for police to kill black people?"
   ]
  },
  {
   "cell_type": "code",
   "execution_count": 27,
   "metadata": {
    "collapsed": false
   },
   "outputs": [
    {
     "name": "stdout",
     "output_type": "stream",
     "text": [
      "R Value: -0.263231250181\n"
     ]
    },
    {
     "data": {
      "text/plain": [
       "[<matplotlib.lines.Line2D at 0x110bf4d30>]"
      ]
     },
     "execution_count": 27,
     "metadata": {},
     "output_type": "execute_result"
    },
    {
     "data": {
      "image/png": "[encoded data removed]",
      "text/plain": [
       "<matplotlib.figure.Figure at 0x110a21898>"
      ]
     },
     "metadata": {},
     "output_type": "display_data"
    }
   ],
   "source": [
    "black_population_percentage = []\n",
    "liklihood_police_kill_blacks = []\n",
    "\n",
    "for i in range(len(policeViolence)):\n",
    "    black_population_percentage.append(i)\n",
    "    liklihood_police_kill_blacks.append(i)\n",
    "    black_population_percentage[i] = (policeViolence[i][6] / policeViolence[i][5])*100\n",
    "    liklihood_police_kill_blacks[i] = policeViolence[i][21]\n",
    "\n",
    "slope, intercept, r_value, p_value, std_err = st.linregress(black_population_percentage, liklihood_police_kill_blacks)\n",
    "\n",
    "print(\"R Value:\", r_value)\n",
    "\n",
    "plt.figure(figsize=(10,5))\n",
    "plt.grid()\n",
    "plt.title(\"Black Population vs. Police Homicide Rate for Black People\")\n",
    "plt.xlabel(\"Black Population by Percentage\")\n",
    "plt.ylabel(\"Police Homicide Rate for Black People\")\n",
    "plt.scatter(black_population_percentage, liklihood_police_kill_blacks)\n",
    "plt.plot([0, 82], [intercept, (slope*82)+intercept])"
   ]
  },
  {
   "cell_type": "markdown",
   "metadata": {},
   "source": [
    "For this question, I used reported data by police departments on the police homicide rate for black people and the black population by percentage in that city. \n",
    "\n",
    "Like the previous question, the relationship between black population by percentage and total police homicide rate for blacks is present, but weak (r = -0.2632). However, the correlation coefficient is negative, meaning there is a negative correlation. This is also represented by the best fit line which has a negative slope. \n",
    "\n",
    "While the correlation is weak, it shows the higher the black population by percentage is, the less likely police are to kill blacks. This might be because police officers are less likely to feel unreasonably threatened by black people when they are more used to seeing black people in normal life. If a police officer's only interaction with black people is when he's arresting them, this will lead to a racist and derogatory view of black people. "
   ]
  },
  {
   "cell_type": "markdown",
   "metadata": {},
   "source": [
    "## In which state are you most likely to be killed by police if you are of any race?"
   ]
  },
  {
   "cell_type": "code",
   "execution_count": 45,
   "metadata": {
    "collapsed": false
   },
   "outputs": [
    {
     "name": "stdout",
     "output_type": "stream",
     "text": [
      "Total Police Homicides:\n",
      "[('CA', [715, 39144818.0, 1.83]), ('TX', [390, 27469114.0, 1.42]), ('FL', [348, 20271272.0, 1.72]), ('AZ', [180, 6828065.0, 2.64]), ('NC', [130, 10042802.0, 1.29]), ('GA', [124, 10214860.0, 1.21]), ('OH', [117, 11613423.0, 1.01]), ('IL', [115, 12859995.0, 0.89]), ('NY', [113, 19795791.0, 0.57]), ('WA', [107, 7170351.0, 1.49]), ('OK', [107, 3911338.0, 2.74]), ('MO', [100, 6083672.0, 1.64]), ('PA', [98, 12802503.0, 0.77]), ('CO', [98, 5456574.0, 1.8]), ('TN', [89, 6600299.0, 1.35]), ('LA', [88, 4670724.0, 1.88]), ('MD', [86, 6006401.0, 1.43]), ('AL', [85, 4858979.0, 1.75]), ('NM', [76, 2085109.0, 3.64]), ('MI', [75, 9922576.0, 0.76]), ('SC', [72, 4896146.0, 1.47]), ('VA', [71, 8382993.0, 0.85]), ('NJ', [70, 8958013.0, 0.78]), ('IN', [68, 6619680.0, 1.03]), ('OR', [65, 4028977.0, 1.61]), ('NV', [64, 2890845.0, 2.21]), ('KY', [61, 4425092.0, 1.38]), ('WI', [54, 5771337.0, 0.94]), ('MN', [50, 5489594.0, 0.91]), ('MS', [47, 2992333.0, 1.57]), ('MA', [44, 6794422.0, 0.65]), ('KS', [43, 2911641.0, 1.48]), ('UT', [42, 2995919.0, 1.4]), ('WV', [38, 1844128.0, 2.06]), ('AR', [37, 2978204.0, 1.24]), ('NE', [27, 1896190.0, 1.42]), ('IA', [25, 3123899.0, 0.8]), ('CT', [23, 3590886.0, 0.64]), ('MT', [23, 1032949.0, 2.23]), ('ID', [20, 1654930.0, 1.21]), ('DC', [20, 672228.0, 2.98]), ('HI', [19, 1431603.0, 1.33]), ('AK', [17, 738432.0, 2.3]), ('ME', [15, 1329328.0, 1.13]), ('WY', [14, 586107.0, 2.39]), ('SD', [13, 858469.0, 1.51]), ('DE', [11, 945934.0, 1.16]), ('NH', [9, 1330608.0, 0.68]), ('ND', [6, 756927.0, 0.79]), ('RI', [5, 1056298.0, 0.47]), ('VT', [4, 626042.0, 0.64])]\n",
      "\n",
      "Police Homicide Rate (per 100,000 people):\n",
      "[('NM', 3.64), ('DC', 2.98), ('OK', 2.74), ('AZ', 2.64), ('WY', 2.39), ('AK', 2.3), ('MT', 2.23), ('NV', 2.21), ('WV', 2.06), ('LA', 1.88), ('CA', 1.83), ('CO', 1.8), ('AL', 1.75), ('FL', 1.72), ('MO', 1.64), ('OR', 1.61), ('MS', 1.57), ('SD', 1.51), ('WA', 1.49), ('KS', 1.48), ('SC', 1.47), ('MD', 1.43), ('TX', 1.42), ('NE', 1.42), ('UT', 1.4), ('KY', 1.38), ('TN', 1.35), ('HI', 1.33), ('NC', 1.29), ('AR', 1.24), ('ID', 1.21), ('GA', 1.21), ('DE', 1.16), ('ME', 1.13), ('IN', 1.03), ('OH', 1.01), ('WI', 0.94), ('MN', 0.91), ('IL', 0.89), ('VA', 0.85), ('IA', 0.8), ('ND', 0.79), ('NJ', 0.78), ('PA', 0.77), ('MI', 0.76), ('NH', 0.68), ('MA', 0.65), ('CT', 0.64), ('VT', 0.64), ('NY', 0.57), ('RI', 0.47)]\n"
     ]
    }
   ],
   "source": [
    "stateCodes = []\n",
    "populations = []\n",
    "\n",
    "Popfile = open(\"states.csv\", \"r\", errors=\"ignore\")\n",
    "\n",
    "for i in Popfile:\n",
    "    populations.append(i)\n",
    "for i in range(len(populations)):\n",
    "    populations[i] = populations[i].split(\",\")\n",
    "    \n",
    "del populations[0]\n",
    "\n",
    "for i in range(len(killedByPolice)):\n",
    "    stateCodes.append(i)\n",
    "    stateCodes[i] = killedByPolice[i][6]\n",
    "    \n",
    "state_count = {}\n",
    "for x in stateCodes:\n",
    "    if x not in state_count:\n",
    "        state_count[x] = []\n",
    "        state_count[x].append(1)\n",
    "    else:\n",
    "        state_count[x][0]+=1\n",
    "    \n",
    "del state_count['PN']\n",
    "del state_count['\"']\n",
    "del state_count['Dublin']\n",
    "\n",
    "for i in range(len(populations)):\n",
    "    state_count[populations[i][1]].append(float((populations[i][2])))\n",
    "\n",
    "for i in state_count:\n",
    "    percent = round(state_count[i][0] / state_count[i][1]*100000, 2)\n",
    "    state_count[i].append(percent)\n",
    "    \n",
    "sorted_x = sorted(state_count.items(), key = operator.itemgetter(1), reverse = True)\n",
    "\n",
    "print(\"Total Police Homicides:\")\n",
    "print(sorted_x)\n",
    "\n",
    "percent = {}\n",
    "\n",
    "for x in state_count:\n",
    "    percent[x] = state_count[x][2]\n",
    "    \n",
    "sorted_percent = sorted(percent.items(), key = operator.itemgetter(1), reverse = True)\n",
    "\n",
    "print()\n",
    "print(\"Police Homicide Rate (per 100,000 people):\")\n",
    "print(sorted_percent)"
   ]
  },
  {
   "cell_type": "markdown",
   "metadata": {},
   "source": [
    "I pulled from the Killed By Police file every person that was killed and the state in which they were killed, and organized those numbers by states.\n",
    "\n",
    "The first set of numbers is total police homicides since January 1st, 2013, because that is when this data set was started. The state code is given for each value, and then preceded by three numbers. The first is total police homicides, by which the data is organized. California clearly has the most, with 715 killings, however this data alone doesn't tell me that much, because California has such a large population. That's why the second and third numbers exist. The second number is the population of the state, and the third number is the police homicide rate per 100,000 people. For California, this number is 1.83, meaning for every 100,000 people, an average of 1.83 people are killed by police. \n",
    "\n",
    "The second set of numbers given is the state code and the police homicide rate, sorted. I can conclude that the highest number of killings per capita occurs in New Mexico, then DC, then Oklahoma. "
   ]
  },
  {
   "cell_type": "markdown",
   "metadata": {},
   "source": [
    "## In which state are you most likely to be killed if you are black?"
   ]
  },
  {
   "cell_type": "code",
   "execution_count": 44,
   "metadata": {
    "collapsed": false
   },
   "outputs": [
    {
     "name": "stdout",
     "output_type": "stream",
     "text": [
      "Number of black people killed by police in each state:\n",
      "{'WV': [4], 'DC': [19], 'LA': [44], 'MA': [12], 'PN': [1], 'FL': [125], 'NM': [3], 'CT': [4], 'RI': [2], 'VA': [31], 'MO': [41], 'IN': [24], 'IA': [3], 'TX': [92], 'UT': [3], 'MS': [20], 'KS': [9], 'GA': [51], 'CA': [115], 'IL': [55], 'AZ': [15], 'NJ': [30], 'NV': [9], 'MD': [56], 'MN': [11], 'OH': [52], 'AK': [2], 'PA': [29], 'NY': [53], 'AL': [36], 'SC': [24], 'OR': [3], 'CO': [10], 'AR': [9], 'WI': [15], 'KY': [11], 'MI': [27], 'OK': [35], 'NE': [6], 'WA': [11], 'NC': [51], 'DE': [4], 'HI': [1], 'TN': [21]}\n",
      "Length of list: 44\n",
      "\n",
      "Number of black people killed by police in each state (factoring in states where that number is 0):\n",
      "{'WV': [4], 'DC': [19], 'LA': [44], 'MA': [12], 'FL': [125], 'NM': [3], 'CT': [4], 'RI': [2], 'VA': [31], 'MO': [41], 'ND': [0], 'VT': [0], 'IN': [24], 'ID': [0], 'IA': [3], 'TX': [92], 'WY': [0], 'SD': [0], 'UT': [3], 'MS': [20], 'KS': [9], 'GA': [51], 'CA': [115], 'IL': [55], 'AZ': [15], 'NJ': [30], 'NV': [9], 'MD': [56], 'MN': [11], 'OH': [52], 'AK': [2], 'PA': [29], 'ME': [0], 'NY': [53], 'NH': [0], 'AL': [36], 'SC': [24], 'OR': [3], 'CO': [10], 'AR': [9], 'WI': [15], 'KY': [11], 'MI': [27], 'OK': [35], 'MT': [0], 'NE': [6], 'WA': [11], 'NC': [51], 'DE': [4], 'HI': [1], 'TN': [21]}\n",
      "Length of list: 51\n",
      "\n",
      "Total Police Homicides for Black People:\n",
      "[('FL', [125, 2999862.0, 4.17]), ('CA', [115, 2299072.0, 5.0]), ('TX', [92, 2979598.0, 3.09]), ('MD', [56, 1798593.0, 3.11]), ('IL', [55, 1866414.0, 2.95]), ('NY', [53, 3073800.0, 1.72]), ('OH', [52, 1407681.0, 3.69]), ('GA', [51, 3150435.0, 1.62]), ('NC', [51, 2048628.0, 2.49]), ('LA', [44, 1506534.0, 2.92]), ('MO', [41, 704043.0, 5.82]), ('AL', [36, 1251311.0, 2.88]), ('OK', [35, 277644.0, 12.61]), ('VA', [31, 1551399.0, 2.0]), ('NJ', [30, 1204826.0, 2.49]), ('PA', [29, 1377689.0, 2.1]), ('MI', [27, 1400362.0, 1.93]), ('SC', [24, 1290684.0, 1.86]), ('IN', [24, 591397.0, 4.06]), ('TN', [21, 1055689.0, 1.99]), ('MS', [20, 1074200.0, 1.86]), ('DC', [19, 305074.0, 6.23]), ('WI', [15, 359148.0, 4.18]), ('AZ', [15, 259008.0, 5.79]), ('MA', [12, 528761.0, 2.27]), ('KY', [11, 361273.0, 3.04]), ('MN', [11, 274412.0, 4.01]), ('WA', [11, 240042.0, 4.58]), ('CO', [10, 201737.0, 4.96]), ('AR', [9, 449895.0, 2.0]), ('NV', [9, 255633.0, 3.52]), ('KS', [9, 167864.0, 5.36]), ('NE', [6, 82885.0, 7.24]), ('CT', [4, 362296.0, 1.1]), ('DE', [4, 191814.0, 2.09]), ('WV', [4, 63124.0, 6.34]), ('IA', [3, 89148.0, 3.37]), ('OR', [3, 69206.0, 4.33]), ('NM', [3, 42550.0, 7.05]), ('UT', [3, 29287.0, 10.24]), ('RI', [2, 79719.0, 2.51]), ('AK', [2, 23263.0, 8.6]), ('HI', [1, 21424.0, 4.67]), ('ME', [0, 15707.0, 0.0]), ('NH', [0, 15035.0, 0.0]), ('SD', [0, 10207.0, 0.0]), ('ID', [0, 9810.0, 0.0]), ('ND', [0, 7960.0, 0.0]), ('VT', [0, 6277.0, 0.0]), ('WY', [0, 4748.0, 0.0]), ('MT', [0, 4027.0, 0.0])]\n",
      "\n",
      "Police Homicide Rate (per 100,000) for black people:\n",
      "[('OK', 12.61), ('UT', 10.24), ('AK', 8.6), ('NE', 7.24), ('NM', 7.05), ('WV', 6.34), ('DC', 6.23), ('MO', 5.82), ('AZ', 5.79), ('KS', 5.36), ('CA', 5.0), ('CO', 4.96), ('HI', 4.67), ('WA', 4.58), ('OR', 4.33), ('WI', 4.18), ('FL', 4.17), ('IN', 4.06), ('MN', 4.01), ('OH', 3.69), ('NV', 3.52), ('IA', 3.37), ('MD', 3.11), ('TX', 3.09), ('KY', 3.04), ('IL', 2.95), ('LA', 2.92), ('AL', 2.88), ('RI', 2.51), ('NJ', 2.49), ('NC', 2.49), ('MA', 2.27), ('PA', 2.1), ('DE', 2.09), ('VA', 2.0), ('AR', 2.0), ('TN', 1.99), ('MI', 1.93), ('MS', 1.86), ('SC', 1.86), ('NY', 1.72), ('GA', 1.62), ('CT', 1.1), ('NH', 0.0), ('ND', 0.0), ('ID', 0.0), ('WY', 0.0), ('SD', 0.0), ('ME', 0.0), ('VT', 0.0), ('MT', 0.0)]\n"
     ]
    }
   ],
   "source": [
    "state_codes_black = []\n",
    "recalibration = 0\n",
    "\n",
    "for i in range(len(killedByPolice)):\n",
    "    if killedByPolice[i][3][0:3] == 'Bla':\n",
    "        state_codes_black.append(recalibration)\n",
    "        state_codes_black[recalibration] = killedByPolice[i][6]\n",
    "        recalibration+=1\n",
    "    \n",
    "state_count_black = {}\n",
    "\n",
    "for x in state_codes_black:\n",
    "    if x not in state_count_black:\n",
    "        state_count_black[x] = []\n",
    "        state_count_black[x].append(1)\n",
    "    else:\n",
    "        state_count_black[x][0]+=1\n",
    "    \n",
    "print(\"Number of black people killed by police in each state:\")\n",
    "print(state_count_black)\n",
    "print(\"Length of list:\", len(state_count_black))\n",
    "    \n",
    "del state_count_black['PN']\n",
    "\n",
    "state_count_black.update({'ME': [0], 'MT': [0], 'ND': [0], 'NH': [0], 'SD': [0], 'VT': [0], 'WY': [0], 'ID': [0]})\n",
    "\n",
    "print()\n",
    "print(\"Number of black people killed by police in each state (factoring in states where that number is 0):\")\n",
    "print(state_count_black)\n",
    "print(\"Length of list:\", len(state_count_black))\n",
    "\n",
    "for i in range(len(populations)):\n",
    "    state_count_black[populations[i][1]].append(float((populations[i][3])))\n",
    "\n",
    "for i in state_count_black:\n",
    "    percent = round(state_count_black[i][0] / state_count_black[i][1]*100000, 2)\n",
    "    state_count_black[i].append(percent)\n",
    "    \n",
    "sorted_x_black = sorted(state_count_black.items(), key = operator.itemgetter(1), reverse = True)\n",
    "\n",
    "print()\n",
    "print(\"Total Police Homicides for Black People:\")\n",
    "print(sorted_x_black)\n",
    "\n",
    "percent_black = {}\n",
    "\n",
    "for x in state_count:\n",
    "    percent_black[x] = state_count_black[x][2]\n",
    "    \n",
    "sorted_percent_black = sorted(percent_black.items(), key = operator.itemgetter(1), reverse = True)\n",
    "\n",
    "print()\n",
    "print(\"Police Homicide Rate (per 100,000) for black people:\")\n",
    "print(sorted_percent_black)"
   ]
  },
  {
   "cell_type": "markdown",
   "metadata": {},
   "source": [
    "This conclusion was a bit harder to reach. First, I followed a similar method as for the previous question. The first set of numbers displayed gives the number of black people killed in each state. However, the number below, the length of the list, indicates a problem. The length is 44. There are more than 44 states (51, including the District of Columbia). This means that in 7 states, there were no black people killed. I still have to include that data in the list in order to properly analyze it. \n",
    "\n",
    "The second set of numbers give a list that has a length of 51, and includes every state's number of black people killed.\n",
    "\n",
    "The third set is in the same format as the first set from the last question. State code, followed by total killings, population of black people in the state, and black people killed per 100,000 people. \n",
    "\n",
    "The fourth set organizes the data by the homicide rate. Oklahoma police kill the most black people, followed by Utah, Arkansas, Nebraska, and then New Mexico. The statistic for Utah is misleading however, because the Utah black population is so low, making the per capita data value be skewed. "
   ]
  },
  {
   "cell_type": "markdown",
   "metadata": {},
   "source": [
    "## What race is most likely to be killed unarmed in the country?"
   ]
  },
  {
   "cell_type": "code",
   "execution_count": 47,
   "metadata": {
    "collapsed": false,
    "scrolled": true
   },
   "outputs": [
    {
     "name": "stdout",
     "output_type": "stream",
     "text": [
      "Since Jan 1, 2013:\n",
      "Unarmed Blacks killed: 295\n",
      "\tOut of: 1179 killed\n",
      "\tPercent Killed Unarmed: 25.0\n",
      "Unarmed Whites killed: 317\n",
      "\tOut of: 1877 killed\n",
      "\tPercent Killed Unarmed: 16.9\n",
      "Unarmed Hispanics killed: 137\n",
      "\tOut of: 705 killed\n",
      "\tPercent Killed Unarmed: 19.4\n",
      "Unarmed Native Americans killed: 6\n",
      "\tOut of: 39 killed\n",
      "\tPercent Killed Unarmed: 15.4\n",
      "Unarmed Asians killed: 8\n",
      "\tOut of: 76 killed\n",
      "\tPercent Killed Unarmed: 10.5\n"
     ]
    }
   ],
   "source": [
    "black_killings = 0\n",
    "white_killings = 0\n",
    "hispanic_killings = 0\n",
    "native_killings = 0\n",
    "asian_killings = 0\n",
    "unarmed_black = 0\n",
    "unarmed_white = 0\n",
    "unarmed_hispanic = 0\n",
    "unarmed_native = 0\n",
    "unarmed_asian = 0\n",
    "\n",
    "for x in range(len(killedByPolice)):\n",
    "    if killedByPolice[x][3][0:3] == 'Bla':\n",
    "        black_killings+=1\n",
    "        if killedByPolice[x][9][0:7] == 'Unarmed':\n",
    "            unarmed_black+=1\n",
    "    elif killedByPolice[x][3][0:3] == 'Whi':\n",
    "        white_killings+=1\n",
    "        if killedByPolice[x][9][0:7] == 'Unarmed':\n",
    "            unarmed_white+=1\n",
    "    elif killedByPolice[x][3][0:3] == 'His':\n",
    "        hispanic_killings+=1\n",
    "        if killedByPolice[x][9][0:7] == 'Unarmed':\n",
    "            unarmed_hispanic+=1\n",
    "    elif killedByPolice[x][3][0:3] == 'Nat':\n",
    "        native_killings+=1\n",
    "        if killedByPolice[x][9][0:7] == 'Unarmed':\n",
    "            unarmed_native+=1\n",
    "    elif killedByPolice[x][3][0:3] == 'Asi':\n",
    "        asian_killings+=1\n",
    "        if killedByPolice[x][9][0:7] == 'Unarmed':\n",
    "            unarmed_asian+=1\n",
    "        \n",
    "print(\"Since Jan 1, 2013:\")\n",
    "print(\"Unarmed Blacks killed:\", unarmed_black)\n",
    "print(\"\\tOut of:\", black_killings, \"killed\")\n",
    "print(\"\\tPercent Killed Unarmed:\", round(unarmed_black/black_killings*100, 1))\n",
    "print(\"Unarmed Whites killed:\", unarmed_white)\n",
    "print(\"\\tOut of:\", white_killings, \"killed\")\n",
    "print(\"\\tPercent Killed Unarmed:\", round(unarmed_white/white_killings*100, 1))\n",
    "print(\"Unarmed Hispanics killed:\", unarmed_hispanic)\n",
    "print(\"\\tOut of:\", hispanic_killings, \"killed\")\n",
    "print(\"\\tPercent Killed Unarmed:\", round(unarmed_hispanic/hispanic_killings*100, 1))\n",
    "print(\"Unarmed Native Americans killed:\", unarmed_native)\n",
    "print(\"\\tOut of:\", native_killings, \"killed\")\n",
    "print(\"\\tPercent Killed Unarmed:\", round(unarmed_native/native_killings*100, 1))\n",
    "print(\"Unarmed Asians killed:\", unarmed_asian)\n",
    "print(\"\\tOut of:\", asian_killings, \"killed\")\n",
    "print(\"\\tPercent Killed Unarmed:\", round(unarmed_asian/asian_killings*100, 1))"
   ]
  },
  {
   "cell_type": "markdown",
   "metadata": {
    "collapsed": true
   },
   "source": [
    "To gather this data, I took the data set reporting every person killed by police, and pulled out ONLY the people who had been killed unarmed. I then sorted them by race. In addition, I divided the total number of killings of each race by the number of killings unarmed, to give the percent killed unarmed statistic. \n",
    "\n",
    "The data shows you are most likely to be killed AND be unarmed if you are black. While more white people have been killed overall since 2013, a significantly  higher percentage of black people killed were unarmed. 25% of black people killed by the police are unarmed. Hispanics are the next likely at 19.4%, then whites at 16.9%, then Native Americans at 15.4%, and finally Asians at 10.5%.  "
   ]
  },
  {
   "cell_type": "markdown",
   "metadata": {},
   "source": [
    "## Is there a correlation between the police homicide rate for black people and the black-white dissimilarity of the city?"
   ]
  },
  {
   "cell_type": "code",
   "execution_count": 50,
   "metadata": {
    "collapsed": false
   },
   "outputs": [
    {
     "name": "stdout",
     "output_type": "stream",
     "text": [
      "R Value: -0.258203449774\n"
     ]
    },
    {
     "data": {
      "text/plain": [
       "[<matplotlib.lines.Line2D at 0x10d473828>]"
      ]
     },
     "execution_count": 50,
     "metadata": {},
     "output_type": "execute_result"
    },
    {
     "data": {
      "image/png": "[encoded data removed]",
      "text/plain": [
       "<matplotlib.figure.Figure at 0x10d389550>"
      ]
     },
     "metadata": {},
     "output_type": "display_data"
    }
   ],
   "source": [
    "homicide_rate_4_blacks = []\n",
    "black_white_dissimilarity = []\n",
    "\n",
    "for i in range(len(policeViolence)):\n",
    "    homicide_rate_4_blacks.append(i)\n",
    "    black_white_dissimilarity.append(i)\n",
    "    homicide_rate_4_blacks[i] = policeViolence[i][21]\n",
    "    black_white_dissimilarity[i] = policeViolence[i][24]\n",
    "\n",
    "slope, intercept, r_value, p_value, std_err = st.linregress(homicide_rate_4_blacks, black_white_dissimilarity)\n",
    "\n",
    "print(\"R Value:\", r_value)\n",
    "\n",
    "plt.figure(figsize=(10,5))\n",
    "plt.grid()\n",
    "plt.title(\"Police Homicide Rate for Black People vs. Black-White Dissimilarity\")\n",
    "plt.xlabel(\"Police Homicide Rate for Black People\")\n",
    "plt.ylabel(\"Black-White Dissimilarity\")\n",
    "plt.scatter(homicide_rate_4_blacks, black_white_dissimilarity)\n",
    "plt.plot([0, 350], [intercept, (slope*350)+intercept])"
   ]
  },
  {
   "cell_type": "markdown",
   "metadata": {},
   "source": [
    "The data gathering for this question was fairly easy. I simply took the police homicide rate for black people and the black-white dissimilarity data from the police department file, and graphed them against each other. I included a best fit line and the r value above. There is a weak correlation, that is negative.\n",
    "\n",
    "The higher the black-white dissimilarity, the lower the police homicide rate is for black people. This is similar to the question correlating black population to police homicide rate for black people, and has similar reasoning behind the conclusion."
   ]
  },
  {
   "cell_type": "markdown",
   "metadata": {
    "collapsed": true
   },
   "source": [
    "# Conclusion"
   ]
  },
  {
   "cell_type": "markdown",
   "metadata": {},
   "source": [
    "To review, here are my conclusions for each question:\n",
    "\n",
    "Does a higher rate of violent crime make it more likely for police to kill people?\n",
    "\n",
    "Weak positive correlation between violent crime rate and police homicide rate, meaning the higher the violent crime rate, the higher the police homicide rate. I would suspect this is because a higher violent crime rate typically means more aggressive criminals, which would offer up more situations in which police officers might be forced to shoot someone.\n",
    "\n",
    "\n",
    "Does a larger black population by percentage make it more likely for police to kill black people?\n",
    "\n",
    "Weak negative correlation between the black population by percentage and the liklihood police are to kill black people, meaning the higher the black population by percentage is, the less likely police are to kill blacks. This might be because police officers are less likely to feel unreasonably threatened by black people when they are more used to seeing black people in normal life. If a police officer's only interaction with black people is when he's arresting them, this will lead to a racist and derogatory view of black people.\n",
    "\n",
    "    \n",
    "In which state are you most likely to be killed by police if you are of any race?\n",
    "\n",
    "Top five states with the highest number of killings per capita by police as follows: New Mexico, DC, Oklahoma, Arizona, Wyoming.\n",
    "\n",
    "    \n",
    "In which state are you most likely to be killed if you are black?\n",
    "\n",
    "Top five states with the highest number of killings per capita (of black people) by police as follows: Oklahoma, Utah, Arkansas, Nebraska, New Mexico. The statistic for Utah is misleading however, because the Utah black population is so low, making the per capita data value be skewed.\n",
    "\n",
    "\n",
    "What race is most likely to be killed unarmed in the country?\n",
    "\n",
    "You are most likely to be killed AND be unarmed if you are black. While more white people have been killed overall since 2013, a significantly higher percentage of black people killed were unarmed. 25% of black people killed by the police are unarmed. Hispanics are the next likely at 19.4%, then whites at 16.9%, then Native Americans at 15.4%, and finally Asians at 10.5%.\n",
    "\n",
    "    \n",
    "Is there a correlation between the police homicide rate for black people and the black-white dissimilarity of the city?\n",
    "    \n",
    "Weak neagative correlation between the police homicide rate for black people and the black-white dissimilarity of the city, meaning the higher the black-white dissimilarity, the lower the police homicide rate is for black people. This is similar to the question correlating black population to police homicide rate for black people, and has similar reasoning behind the conclusion."
   ]
  },
  {
   "cell_type": "code",
   "execution_count": null,
   "metadata": {
    "collapsed": true
   },
   "outputs": [],
   "source": []
  }
 ],
 "metadata": {
  "anaconda-cloud": {},
  "kernelspec": {
   "display_name": "Python [Root]",
   "language": "python",
   "name": "Python [Root]"
  },
  "language_info": {
   "codemirror_mode": {
    "name": "ipython",
    "version": 3
   },
   "file_extension": ".py",
   "mimetype": "text/x-python",
   "name": "python",
   "nbconvert_exporter": "python",
   "pygments_lexer": "ipython3",
   "version": "3.5.2"
  }
 },
 "nbformat": 4,
 "nbformat_minor": 0
}

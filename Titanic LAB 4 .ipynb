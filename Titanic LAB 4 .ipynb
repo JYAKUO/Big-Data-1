{
 "cells": [
  {
   "cell_type": "markdown",
   "metadata": {
    "collapsed": true
   },
   "source": [
    "# Who Lives on the Titanic?"
   ]
  },
  {
   "cell_type": "code",
   "execution_count": 12,
   "metadata": {
    "collapsed": false
   },
   "outputs": [
    {
     "name": "stdout",
     "output_type": "stream",
     "text": [
      "(2201, 4)\n",
      "[[ 1.  1.  1.]\n",
      " [ 1.  1.  1.]\n",
      " [ 1.  1.  1.]\n",
      " ..., \n",
      " [ 0.  1.  0.]\n",
      " [ 0.  1.  0.]\n",
      " [ 0.  1.  0.]]\n",
      "[ 1.  1.  1. ...,  0.  0.  0.]\n"
     ]
    }
   ],
   "source": [
    "#code to import a csv and convert it to a numpy array\n",
    "#import the numpy library\n",
    "import statistics\n",
    "import numpy as np\n",
    "#open the file\n",
    "raw_data = open(\"titanic.csv\")\n",
    "# load the CSV file as a numpy matrix\n",
    "dataset = np.loadtxt(raw_data, delimiter=\",\")\n",
    "#'shape' is the dimensions of the matrix\n",
    "print(dataset.shape)\n",
    "# separate the data from the target attributes\n",
    "X = dataset[:,0:3]\n",
    "y = dataset[:,3]\n",
    "print(X)\n",
    "print(y)\n"
   ]
  },
  {
   "cell_type": "code",
   "execution_count": 13,
   "metadata": {
    "collapsed": true
   },
   "outputs": [],
   "source": [
    "# What is the average accuracy of the following three machine learning algorithms on this dataset: DecisionTree, KNeighbors, RandomForest? (Hint: look at the code file from last week to figure out how to use the new algorithms)\n",
    "# Who would've survived?\n",
    "#a. An adult male in the 3rd class\n",
    "#b. An adult female in 1st class\n",
    "#c. A female child in 1st class\n",
    "#3. Which is the most important determining feature in this dataset? (Hint: try removing features one at a time, and observe the results)"
   ]
  },
  {
   "cell_type": "code",
   "execution_count": 14,
   "metadata": {
    "collapsed": true
   },
   "outputs": [],
   "source": [
    "# Featture Column 1   Class (0 = crew, 1 = first, 2 = second, 3 = third)\n",
    "# Feature Column 2    Age (1 = adult, 0 = child)\n",
    "# Feature Column 3    Sex   (1 = male, 0 = female)\n",
    "# Target Column 4   Survived (1 = yes, 0 = no)"
   ]
  },
  {
   "cell_type": "code",
   "execution_count": 15,
   "metadata": {
    "collapsed": false
   },
   "outputs": [],
   "source": [
    "from sklearn import datasets\n",
    "import random\n",
    "from sklearn.cross_validation import train_test_split\n",
    "\n"
   ]
  },
  {
   "cell_type": "code",
   "execution_count": 16,
   "metadata": {
    "collapsed": false
   },
   "outputs": [
    {
     "name": "stdout",
     "output_type": "stream",
     "text": [
      "0.799273387829\n",
      "average of decision tree accuracy 0.788\n"
     ]
    }
   ],
   "source": [
    "#Decision tree\n",
    "import random\n",
    "X_train, X_test, y_train, y_test = train_test_split(X, y, test_size = .5)\n",
    "\n",
    "from sklearn import tree\n",
    "tree_classifier = tree.DecisionTreeClassifier();\n",
    "tree_classifier = tree_classifier.fit(X_train, y_train)\n",
    "tree_predictions = tree_classifier.predict(X_test)\n",
    "\n",
    "from sklearn.metrics import accuracy_score\n",
    "print(accuracy_score(tree_predictions, y_test))\n",
    "\n",
    "#0.791, 0.784, 0.794, 0.782, 0.798\n",
    "\n",
    "tree=[0.791, 0.784, 0.794, 0.782, 0.789]\n",
    "\n",
    "print(\"average of decision tree accuracy\", statistics.mean(tree))\n",
    "\n"
   ]
  },
  {
   "cell_type": "code",
   "execution_count": 17,
   "metadata": {
    "collapsed": false
   },
   "outputs": [
    {
     "name": "stdout",
     "output_type": "stream",
     "text": [
      "0.765667574932\n",
      "average of K neighbors accuracy 0.7774\n"
     ]
    }
   ],
   "source": [
    "#KNeighbors\n",
    "import random\n",
    "X_train, X_test, y_train, y_test = train_test_split(X, y, test_size = .5)\n",
    "\n",
    "from sklearn import neighbors\n",
    "knn_classifier = neighbors.KNeighborsClassifier()\n",
    "knn_classifier = knn_classifier.fit(X_train, y_train)\n",
    "knn_predictions = knn_classifier.predict(X_test)\n",
    "\n",
    "print(accuracy_score(knn_predictions, y_test))\n",
    "\n",
    "#0.786，0.747， 0.774， .785， 0.795\n",
    "\n",
    "neighbors=[0.786,0.747,0.774, 0.785, 0.795]\n",
    "\n",
    "print(\"average of K neighbors accuracy\", statistics.mean(neighbors))\n"
   ]
  },
  {
   "cell_type": "code",
   "execution_count": 18,
   "metadata": {
    "collapsed": false
   },
   "outputs": [
    {
     "name": "stdout",
     "output_type": "stream",
     "text": [
      "0.782016348774\n",
      "average of random forest accuracy 0.7842\n"
     ]
    }
   ],
   "source": [
    "#Random Forest\n",
    "import random\n",
    "X_train, X_test, y_train, y_test = train_test_split(X, y, test_size = .5)\n",
    "\n",
    "from sklearn import ensemble\n",
    "rf_classifier = ensemble.RandomForestClassifier()\n",
    "rf_classifier = rf_classifier.fit(X_train, y_train)\n",
    "rf_predictions = rf_classifier.predict(X_test)\n",
    "\n",
    "print(accuracy_score(rf_predictions, y_test))\n",
    "\n",
    "#0.802，0.781， 0.782，0.780，0.776\n",
    "\n",
    "forest=[0.802, 0.781, 0.782,.780, 0.776]\n",
    "\n",
    "print(\"average of random forest accuracy\", statistics.mean(forest))\n"
   ]
  },
  {
   "cell_type": "code",
   "execution_count": 19,
   "metadata": {
    "collapsed": true
   },
   "outputs": [],
   "source": [
    "# For me, the most accurate machine algorithm was Random forest."
   ]
  },
  {
   "cell_type": "markdown",
   "metadata": {},
   "source": [
    "# Part 2"
   ]
  },
  {
   "cell_type": "code",
   "execution_count": 55,
   "metadata": {
    "collapsed": false
   },
   "outputs": [
    {
     "name": "stdout",
     "output_type": "stream",
     "text": [
      "adult male in third class is probably dead  [ 0.]\n"
     ]
    }
   ],
   "source": [
    "#2. Using the most accurate algorithm, predict whether the following imaginary people would have survived:\n",
    "#an adult male in the 3rd class died\n",
    "\n",
    "\n",
    "from sklearn import ensemble\n",
    "X_train, X_test, y_train, y_test = train_test_split(X, y, test_size = .5)\n",
    "clf= ensemble.RandomForestClassifier()\n",
    "clf=clf.fit(X,y)\n",
    "clf.predict([[3,1,1]])\n",
    "\n",
    "rf_classifier = ensemble.RandomForestClassifier()\n",
    "rf_classifier = rf_classifier.fit(X_train, y_train)\n",
    "rf_predictions = rf_classifier.predict(X_test)\n",
    "\n",
    "print(\"adult male in third class is probably dead \", clf.predict([[3,1,1]]))\n",
    "\n"
   ]
  },
  {
   "cell_type": "code",
   "execution_count": 49,
   "metadata": {
    "collapsed": false
   },
   "outputs": [
    {
     "name": "stdout",
     "output_type": "stream",
     "text": [
      "adult female in first class is probably alive  [ 1.]\n"
     ]
    }
   ],
   "source": [
    "# an adult female in 1st class lived\n",
    "from sklearn import ensemble\n",
    "X_train, X_test, y_train, y_test = train_test_split(X, y, test_size = .5)\n",
    "clf= ensemble.RandomForestClassifier()\n",
    "clf=clf.fit(X,y)\n",
    "clf.predict([[1,1,0]])\n",
    "\n",
    "rf_classifier = ensemble.RandomForestClassifier()\n",
    "rf_classifier = rf_classifier.fit(X_train, y_train)\n",
    "rf_predictions = rf_classifier.predict(X_test)\n",
    "\n",
    "\n",
    "print(\"adult female in first class is probably alive \", clf.predict([[1,1,0]]))"
   ]
  },
  {
   "cell_type": "code",
   "execution_count": 48,
   "metadata": {
    "collapsed": false
   },
   "outputs": [
    {
     "name": "stdout",
     "output_type": "stream",
     "text": [
      "child female in first class is probably alive [ 1.]\n"
     ]
    }
   ],
   "source": [
    "#a female child in 1st class lived\n",
    "from sklearn import ensemble\n",
    "X_train, X_test, y_train, y_test = train_test_split(X, y, test_size = .5)\n",
    "clf= ensemble.RandomForestClassifier()\n",
    "clf=clf.fit(X,y)\n",
    "clf.predict([[1,0,0]])\n",
    "\n",
    "rf_classifier = ensemble.RandomForestClassifier()\n",
    "rf_classifier = rf_classifier.fit(X_train, y_train)\n",
    "rf_predictions = rf_classifier.predict(X_test)\n",
    "\n",
    "\n",
    "print(\"child female in first class is probably alive\", clf.predict([[1,0,0]]))"
   ]
  },
  {
   "cell_type": "markdown",
   "metadata": {},
   "source": [
    "# Part 3"
   ]
  },
  {
   "cell_type": "code",
   "execution_count": 56,
   "metadata": {
    "collapsed": false
   },
   "outputs": [
    {
     "name": "stdout",
     "output_type": "stream",
     "text": [
      "Adult male in first class is probably dead [ 0.]\n"
     ]
    }
   ],
   "source": [
    "#what if the man was in first class dead? (dead)\n",
    "\n",
    "from sklearn import ensemble\n",
    "X_train, X_test, y_train, y_test = train_test_split(X, y, test_size = .5)\n",
    "clf= ensemble.RandomForestClassifier()\n",
    "clf=clf.fit(X,y)\n",
    "clf.predict([[3,1,1]])\n",
    "\n",
    "rf_classifier = ensemble.RandomForestClassifier()\n",
    "rf_classifier = rf_classifier.fit(X_train, y_train)\n",
    "rf_predictions = rf_classifier.predict(X_test)\n",
    "\n",
    "print(\"Adult male in first class is probably dead\", clf.predict([[1,1,1]]))"
   ]
  },
  {
   "cell_type": "code",
   "execution_count": 42,
   "metadata": {
    "collapsed": false
   },
   "outputs": [
    {
     "name": "stdout",
     "output_type": "stream",
     "text": [
      "child male in third class is probably dead  [ 0.]\n"
     ]
    }
   ],
   "source": [
    "#what if the man was child dead? (still dead)\n",
    "\n",
    "from sklearn import ensemble\n",
    "X_train, X_test, y_train, y_test = train_test_split(X, y, test_size = .5)\n",
    "clf= ensemble.RandomForestClassifier()\n",
    "clf=clf.fit(X,y)\n",
    "clf.predict([[3,1,1]])\n",
    "\n",
    "rf_classifier = ensemble.RandomForestClassifier()\n",
    "rf_classifier = rf_classifier.fit(X_train, y_train)\n",
    "rf_predictions = rf_classifier.predict(X_test)\n",
    "\n",
    "print(\"Child male in third class is probably dead \", clf.predict([[3,0,1]]))"
   ]
  },
  {
   "cell_type": "code",
   "execution_count": 60,
   "metadata": {
    "collapsed": false
   },
   "outputs": [
    {
     "name": "stdout",
     "output_type": "stream",
     "text": [
      "Female in 3rd class is probably dead  [ 0.]\n"
     ]
    }
   ],
   "source": [
    "#What if the male was a female dead? (dead)\n",
    "from sklearn import ensemble\n",
    "X_train, X_test, y_train, y_test = train_test_split(X, y, test_size = .5)\n",
    "clf= ensemble.RandomForestClassifier()\n",
    "clf=clf.fit(X,y)\n",
    "clf.predict([[3,1,1]])\n",
    "\n",
    "rf_classifier = ensemble.RandomForestClassifier()\n",
    "rf_classifier = rf_classifier.fit(X_train, y_train)\n",
    "rf_predictions = rf_classifier.predict(X_test)\n",
    "\n",
    "print(\"Female child in 3rd class is probably dead \", clf.predict([[3,1,0]]))"
   ]
  },
  {
   "cell_type": "code",
   "execution_count": 63,
   "metadata": {
    "collapsed": false
   },
   "outputs": [
    {
     "name": "stdout",
     "output_type": "stream",
     "text": [
      "Child male in second class is probably alive  [ 0.]\n"
     ]
    }
   ],
   "source": [
    "#What if the male child was in Second class? (Alive)\n",
    "\n",
    "from sklearn import ensemble\n",
    "X_train, X_test, y_train, y_test = train_test_split(X, y, test_size = .5)\n",
    "clf= ensemble.RandomForestClassifier()\n",
    "clf=clf.fit(X,y)\n",
    "clf.predict([[3,1,1]])\n",
    "\n",
    "rf_classifier = ensemble.RandomForestClassifier()\n",
    "rf_classifier = rf_classifier.fit(X_train, y_train)\n",
    "rf_predictions = rf_classifier.predict(X_test)\n",
    "\n",
    "print(\"Child male in second class is probably alive \", clf.predict([[2,0,1]]))"
   ]
  },
  {
   "cell_type": "code",
   "execution_count": 67,
   "metadata": {
    "collapsed": false
   },
   "outputs": [
    {
     "name": "stdout",
     "output_type": "stream",
     "text": [
      "Female adult in the crew was probably alive  [ 1.]\n"
     ]
    }
   ],
   "source": [
    "#What if the female was part of the crew? (ALIVE!!!!!)\n",
    "\n",
    "from sklearn import ensemble\n",
    "X_train, X_test, y_train, y_test = train_test_split(X, y, test_size = .5)\n",
    "clf= ensemble.RandomForestClassifier()\n",
    "clf=clf.fit(X,y)\n",
    "clf.predict([[3,1,1]])\n",
    "\n",
    "rf_classifier = ensemble.RandomForestClassifier()\n",
    "rf_classifier = rf_classifier.fit(X_train, y_train)\n",
    "rf_predictions = rf_classifier.predict(X_test)\n",
    "\n",
    "print(\"Female adult in the crew was probably alive \", clf.predict([[0,1,0]]))"
   ]
  },
  {
   "cell_type": "code",
   "execution_count": 69,
   "metadata": {
    "collapsed": false
   },
   "outputs": [
    {
     "name": "stdout",
     "output_type": "stream",
     "text": [
      "Male e adult in the crew was probably alive  [ 0.]\n"
     ]
    }
   ],
   "source": [
    "#What if the male was part of the crew? (Dead)\n",
    "\n",
    "from sklearn import ensemble\n",
    "X_train, X_test, y_train, y_test = train_test_split(X, y, test_size = .5)\n",
    "clf= ensemble.RandomForestClassifier()\n",
    "clf=clf.fit(X,y)\n",
    "clf.predict([[3,1,1]])\n",
    "\n",
    "rf_classifier = ensemble.RandomForestClassifier()\n",
    "rf_classifier = rf_classifier.fit(X_train, y_train)\n",
    "rf_predictions = rf_classifier.predict(X_test)\n",
    "\n",
    "print(\"Male adult in the crew was probably alive \", clf.predict([[0,1,1]]))"
   ]
  },
  {
   "cell_type": "markdown",
   "metadata": {},
   "source": [
    "There was no one determining class in order to survive. You need a mixture of at least two for the males. For me, I took a look at an adult male in the third class. I tried changing him to being in first class, but he was still dead. Making him either a female or a child didn’t change that either (I didn't mess with the crew because they were probably dead). From the first few observations I could already see that females would probably live unless they were in a lower class. So the question now was, \"what would allow a male to live\"? So I changed him to being a child and found that the only way a child were to not live, was if they were in the third class (I checked, and there were no children in the crew). In terms of adult men, all of had a high probability of dying. Based off of this, I can say that the majority of people that lived were middle class to upper class females lived (all children except for 3rd class males lived). So pretty much all males were probably going to die, and since this was in the early 1900's men probably had the duty to protect the women and kids. If you were a third class kid regardless male or female, nobody really cared about you and you were probably going to die.  \n",
    "\n",
    " However, interesting enough although third class adult females died, they didn't if they were in the crew. My only hypotheses for this was they had to get on boats to instruct people or were the first in the crew to get escorted out. However the male crew members were probably dead.\n"
   ]
  },
  {
   "cell_type": "code",
   "execution_count": null,
   "metadata": {
    "collapsed": true
   },
   "outputs": [],
   "source": []
  }
 ],
 "metadata": {
  "anaconda-cloud": {},
  "kernelspec": {
   "display_name": "Python [Root]",
   "language": "python",
   "name": "Python [Root]"
  },
  "language_info": {
   "codemirror_mode": {
    "name": "ipython",
    "version": 3
   },
   "file_extension": ".py",
   "mimetype": "text/x-python",
   "name": "python",
   "nbconvert_exporter": "python",
   "pygments_lexer": "ipython3",
   "version": "3.5.2"
  }
 },
 "nbformat": 4,
 "nbformat_minor": 0
}
